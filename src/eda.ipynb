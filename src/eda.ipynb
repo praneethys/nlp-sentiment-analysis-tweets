{
 "cells": [
  {
   "cell_type": "code",
   "execution_count": null,
   "metadata": {},
   "outputs": [],
   "source": [
    "import pandas as pd\n",
    "import dateutil\n",
    "import warnings\n",
    "import re\n",
    "from nltk.sentiment.vader import SentimentIntensityAnalyzer as SIA\n",
    "\n",
    "pd.set_option('display.max_colwidth', 1000)\n",
    "warnings.filterwarnings('ignore')\n",
    "\n",
    "from nltk.downloader import download as nltkDownload\n",
    "nltkDownload('vader_lexicon')"
   ]
  },
  {
   "cell_type": "code",
   "execution_count": null,
   "metadata": {},
   "outputs": [],
   "source": [
    "dataset_df = pd.read_csv('../data/chatgpt_daily_tweets.csv')\n",
    "dataset_en_df = dataset_df[dataset_df['lang'] == 'en']\n",
    "dataset_en_df"
   ]
  },
  {
   "cell_type": "code",
   "execution_count": null,
   "metadata": {},
   "outputs": [],
   "source": [
    "def clean_data(dataset_df: pd.DataFrame) -> pd.DataFrame:\n",
    "    try:\n",
    "        data = dataset_df.copy()\n",
    "        # Convert the 'date' column to datetime format and remove the timezone information\n",
    "        data['tweet_created'] = data['tweet_created'].apply(lambda x: dateutil.parser.parse(x))\n",
    "        data['tweet_created'] = pd.to_datetime(data['tweet_created']).dt.tz_localize(None)\n",
    "\n",
    "        # data['tweet_extracted'] = data['tweet_extracted'].apply(lambda x: dateutil.parser.parse(x))\n",
    "        # data['tweet_extracted'] = pd.to_datetime(data['tweet_extracted']).dt.tz_localize(None)\n",
    "\n",
    "        # Text cleaning\n",
    "        data['text'] = data['text'].str.lower()\n",
    "\n",
    "        # Remove twitter handlers\n",
    "        data['text'] = data['text'].apply(lambda x:re.sub('@[^\\s]+','',x))\n",
    "\n",
    "        # Remove hashtags\n",
    "        data['text'] = data['text'].apply(lambda x:re.sub(r'\\B#\\S+','',x))\n",
    "\n",
    "        # Remove URLS\n",
    "        data['text'] = data['text'].apply(lambda x:re.sub(r\"http\\S+\", \"\", x))\n",
    "\n",
    "        # Remove all the special characters\n",
    "        data['text'] = data['text'].apply(lambda x:' '.join(re.findall(r'\\w+', x)))\n",
    "\n",
    "        # Remove all single characters\n",
    "        data['text'] = data['text'].apply(lambda x:re.sub(r'\\s+[a-zA-Z]\\s+', '', x))\n",
    "\n",
    "        # Substituting multiple spaces with single space\n",
    "        data['text'] = data['text'].apply(lambda x:re.sub(r'\\s+', ' ', x, flags=re.I))\n",
    "\n",
    "        data = data.rename(columns={\n",
    "            'text': 'original_tweet',\n",
    "            'tweet_created': 'datetime'\n",
    "        })\n",
    "\n",
    "        return data\n",
    "    except ... as e:\n",
    "        # Catch all errors\n",
    "        print(f'Caught Error: {e}')\n"
   ]
  },
  {
   "cell_type": "code",
   "execution_count": null,
   "metadata": {},
   "outputs": [],
   "source": [
    "data = clean_data(dataset_df)\n",
    "data.head()"
   ]
  },
  {
   "cell_type": "code",
   "execution_count": null,
   "metadata": {},
   "outputs": [],
   "source": [
    "def label_sentiment(x:float):\n",
    "    if x < -0.05 : return 'negative'\n",
    "    if x > 0.35 : return 'positive'\n",
    "    return 'neutral'"
   ]
  },
  {
   "cell_type": "code",
   "execution_count": null,
   "metadata": {},
   "outputs": [],
   "source": [
    "def perform_feature_engineering(data: pd.DataFrame) -> pd.DataFrame:\n",
    "    # Sentiment intensity analyzer\n",
    "    sia = SIA()\n",
    "    data['sentiment'] = [sia.polarity_scores(x)['compound'] for x in data['original_tweet']]\n",
    "    data['overall_sentiment'] = data['sentiment'].apply(label_sentiment)\n",
    "\n",
    "    # Feature extraction from tweet text\n",
    "    data['words'] = data['original_tweet'].apply(lambda x:re.findall(r'\\w+', x ))\n",
    "    data['words_count'] = data['words'].apply(len)\n",
    "    data['sentence_length'] = data['original_tweet'].apply(len)\n",
    "    data['hour'] = data['datetime'].apply(lambda x: x.hour)\n",
    "    data['date'] = data['datetime'].apply(lambda x: x.date())\n",
    "    data['month'] = data['datetime'].apply(lambda x: x.month)\n",
    "    data['year'] = data['datetime'].apply(lambda x: x.year)\n",
    "\n",
    "    return data\n",
    "    "
   ]
  },
  {
   "cell_type": "code",
   "execution_count": null,
   "metadata": {},
   "outputs": [],
   "source": [
    "data_with_features = perform_feature_engineering(data)\n",
    "data_with_features.head()"
   ]
  }
 ],
 "metadata": {
  "kernelspec": {
   "display_name": "Python 3",
   "language": "python",
   "name": "python3"
  },
  "language_info": {
   "codemirror_mode": {
    "name": "ipython",
    "version": 3
   },
   "file_extension": ".py",
   "mimetype": "text/x-python",
   "name": "python",
   "nbconvert_exporter": "python",
   "pygments_lexer": "ipython3",
   "version": "3.11.3"
  },
  "orig_nbformat": 4
 },
 "nbformat": 4,
 "nbformat_minor": 2
}
